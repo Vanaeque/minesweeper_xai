{
 "cells": [
  {
   "cell_type": "code",
   "execution_count": null,
   "id": "07746688",
   "metadata": {
    "vscode": {
     "languageId": "plaintext"
    }
   },
   "outputs": [],
   "source": [
    "import torch\n",
    "import torch.nn as nn\n",
    "import torch.optim as optim\n",
    "from torch.utils.data import Dataset, DataLoader\n",
    "import pickle\n",
    "\n",
    "from tqdm.notebook import tqdm"
   ]
  },
  {
   "cell_type": "code",
   "execution_count": null,
   "id": "9011328e",
   "metadata": {
    "vscode": {
     "languageId": "plaintext"
    }
   },
   "outputs": [],
   "source": [
    "# Define the neural network model for Minesweeper\n",
    "class MinesweeperCNN(nn.Module):\n",
    "    def __init__(self):\n",
    "        super(MinesweeperCNN, self).__init__()\n",
    "        self.conv1 = nn.Conv2d(1, 32, kernel_size=3, padding=1)\n",
    "        self.bn1 = nn.BatchNorm2d(32)\n",
    "        self.conv2 = nn.Conv2d(32, 64, kernel_size=3, padding=1)\n",
    "        self.bn2 = nn.BatchNorm2d(64)\n",
    "        self.conv3 = nn.Conv2d(64, 128, kernel_size=3, padding=1)\n",
    "        self.bn3 = nn.BatchNorm2d(128)\n",
    "        self.conv4 = nn.Conv2d(128, 64, kernel_size=3, padding=1)\n",
    "        self.bn4 = nn.BatchNorm2d(64)\n",
    "        self.dropout = nn.Dropout2d(0.2)\n",
    "        self.output_conv = nn.Conv2d(64, 1, kernel_size=1)\n",
    "\n",
    "    def forward(self, x):\n",
    "        x = self.dropout(nn.functional.relu(self.bn1(self.conv1(x))))\n",
    "        x = self.dropout(nn.functional.relu(self.bn2(self.conv2(x))))\n",
    "        x = self.dropout(nn.functional.relu(self.bn3(self.conv3(x))))\n",
    "        x = self.dropout(nn.functional.relu(self.bn4(self.conv4(x))))\n",
    "        x = torch.sigmoid(self.output_conv(x))\n",
    "        return x.squeeze(1)  # output shape: (batch_size, height, width)\n",
    "    "
   ]
  },
  {
   "cell_type": "code",
   "execution_count": null,
   "id": "e6522b81",
   "metadata": {
    "vscode": {
     "languageId": "plaintext"
    }
   },
   "outputs": [],
   "source": [
    "class MinesweeperStepDataset(Dataset):\n",
    "    def __init__(self, data_path):\n",
    "        \"\"\"\n",
    "        Args:\n",
    "          data_list: list of dicts, each dict with keys:\n",
    "            - 'game_state': numpy array representing the current visible game state (model input)\n",
    "            - 'step_allowed': numpy array (H,W) with 1 where safe hidden cells exist (target)\n",
    "            - 'bombs': numpy array (H,W) with 1 where bombs exist (target)\n",
    "            - 'revealed': numpy array (H,W) with 1 where cells are revealed (target)\n",
    "        \"\"\"\n",
    "        with open(data_path, 'rb') as f:\n",
    "            self.data = pickle.load(f)\n",
    "\n",
    "    def __len__(self):\n",
    "        return len(self.data)\n",
    "\n",
    "    def __getitem__(self, idx):\n",
    "        \n",
    "        sample = self.data[idx]\n",
    "\n",
    "        # Model input: game state (can be a numpy array; convert to tensor)\n",
    "        game_state = torch.FloatTensor(sample['observable_state']).unsqueeze(0)\n",
    "\n",
    "        # Targets: stack the three channels into a tensor of shape (3,H,W)\n",
    "        targets = torch.stack([\n",
    "            torch.FloatTensor(sample['step_allowed']),\n",
    "            torch.FloatTensor(sample['bombs']),\n",
    "            torch.FloatTensor(sample['revealed'])\n",
    "        ], dim=0)\n",
    "\n",
    "        return game_state, targets"
   ]
  },
  {
   "cell_type": "code",
   "execution_count": null,
   "id": "bdae180d",
   "metadata": {
    "vscode": {
     "languageId": "plaintext"
    }
   },
   "outputs": [],
   "source": [
    "device = None\n",
    "\n",
    "if device is None:\n",
    "    device = torch.device('cuda' if torch.cuda.is_available() else 'cpu')"
   ]
  },
  {
   "cell_type": "code",
   "execution_count": null,
   "id": "bac1caa5",
   "metadata": {
    "vscode": {
     "languageId": "plaintext"
    }
   },
   "outputs": [],
   "source": [
    "train_dataset_path = '../data_generation/data/train_begginner.pkl'\n",
    "val_dataset_path = '../data_generation/data/test_begginner.pkl'\n",
    "\n",
    "train_dataset = MinesweeperStepDataset(train_dataset_path)\n",
    "val_dataset = MinesweeperStepDataset(val_dataset_path)\n",
    "\n",
    "train_loader = DataLoader(train_dataset, batch_size=32, shuffle=True)\n",
    "val_loader = DataLoader(val_dataset, batch_size=32)"
   ]
  },
  {
   "cell_type": "code",
   "execution_count": null,
   "id": "93b79a4e",
   "metadata": {
    "vscode": {
     "languageId": "plaintext"
    }
   },
   "outputs": [],
   "source": [
    "class MinesweeperPenaltyLoss(nn.Module):\n",
    "    def __init__(self, bomb_penalty=10.0, revealed_penalty=1.0, safe_penalty=1.0):\n",
    "        \"\"\"\n",
    "        bomb_penalty: weight for bombs component\n",
    "        revealed_penalty: weight for revealed cell component\n",
    "        safe_penalty: weight for step_allowed component\n",
    "        \"\"\"\n",
    "        super().__init__()\n",
    "        self.bomb_penalty = bomb_penalty\n",
    "        self.revealed_penalty = revealed_penalty\n",
    "        self.safe_penalty = safe_penalty\n",
    "        self.bceloss = nn.BCELoss(reduction='mean')\n",
    "\n",
    "    def forward(self, y_pred, y_target):\n",
    "        \"\"\"\n",
    "        y_pred: model output, shape (batch, H, W), probabilities (0-1)\n",
    "        y_target: tuple of (step_allowed, revealed, bombs), all (batch, H, W) tensors\n",
    "        \"\"\"\n",
    "        step_allowed, bombs, revealed = y_target[:, 0], y_target[:, 1], y_target[:, 2]\n",
    "\n",
    "        # BCE for safe (step_allowed)\n",
    "        safe_loss = self.bceloss(y_pred, step_allowed)\n",
    "\n",
    "        # BCE for revealed (want model to predict 0 for those, so target is zeros)\n",
    "        revealed_loss = self.bceloss(y_pred, 1.0 - revealed)\n",
    "\n",
    "        # BCE for bombs (want model to predict 0 for bombs, so target is zeros)\n",
    "        bomb_loss = self.bceloss(y_pred, 1.0 - bombs)\n",
    "\n",
    "        total_loss = (\n",
    "            self.safe_penalty * safe_loss +\n",
    "            self.revealed_penalty * revealed_loss +\n",
    "            self.bomb_penalty * bomb_loss\n",
    "        )\n",
    "        return total_loss"
   ]
  },
  {
   "cell_type": "code",
   "execution_count": null,
   "id": "a0c4871c",
   "metadata": {
    "vscode": {
     "languageId": "plaintext"
    }
   },
   "outputs": [],
   "source": [
    "batch = next(iter(train_loader))\n",
    "\n",
    "print(batch[0].size())\n",
    "print(batch[1].size())"
   ]
  },
  {
   "cell_type": "code",
   "execution_count": null,
   "id": "ba7678aa",
   "metadata": {
    "vscode": {
     "languageId": "plaintext"
    }
   },
   "outputs": [],
   "source": [
    "model = MinesweeperCNN()\n",
    "model.to(device)\n",
    "model.eval()\n",
    "\n",
    "\n",
    "X_random, y_random = next(iter(train_loader))\n",
    "y_pred = model(X_random)\n",
    "\n",
    "loss = MinesweeperPenaltyLoss(bomb_penalty=10.0, revealed_penalty=1.0, safe_penalty=1.0)\n",
    "loss(y_pred, y_random)"
   ]
  },
  {
   "cell_type": "code",
   "execution_count": null,
   "id": "f370dc27",
   "metadata": {
    "vscode": {
     "languageId": "plaintext"
    }
   },
   "outputs": [],
   "source": [
    "# Define the neural network model for Minesweeper\n",
    "class MinesweeperCNN(nn.Module):\n",
    "    def __init__(self):\n",
    "        super(MinesweeperCNN, self).__init__()\n",
    "        self.conv1 = nn.Conv2d(1, 32, kernel_size=3, padding=1)\n",
    "        self.bn1 = nn.BatchNorm2d(32)\n",
    "        self.conv2 = nn.Conv2d(32, 64, kernel_size=3, padding=1)\n",
    "        self.bn2 = nn.BatchNorm2d(64)\n",
    "        self.conv3 = nn.Conv2d(64, 128, kernel_size=3, padding=1)\n",
    "        self.bn3 = nn.BatchNorm2d(128)\n",
    "        self.conv4 = nn.Conv2d(128, 64, kernel_size=3, padding=1)\n",
    "        self.bn4 = nn.BatchNorm2d(64)\n",
    "        self.dropout = nn.Dropout2d(0.2)\n",
    "        self.output_conv = nn.Conv2d(64, 1, kernel_size=1)\n",
    "\n",
    "    def forward(self, x):\n",
    "        x = self.dropout(nn.functional.relu(self.bn1(self.conv1(x))))\n",
    "        x = self.dropout(nn.functional.relu(self.bn2(self.conv2(x))))\n",
    "        # x = self.dropout(nn.functional.relu(self.bn3(self.conv3(x))))\n",
    "        # x = self.dropout(nn.functional.relu(self.bn4(self.conv4(x))))\n",
    "        x = torch.sigmoid(self.output_conv(x))\n",
    "        return x.squeeze(1)  # output shape: (batch_size, height, width)\n",
    "    "
   ]
  },
  {
   "cell_type": "code",
   "execution_count": null,
   "id": "d647b52a",
   "metadata": {
    "vscode": {
     "languageId": "plaintext"
    }
   },
   "outputs": [],
   "source": [
    "train_dataset_path = '../data_generation/data/train_begginner.pkl'\n",
    "val_dataset_path = '../data_generation/data/test_begginner.pkl'\n",
    "\n",
    "train_dataset = MinesweeperStepDataset(train_dataset_path)\n",
    "val_dataset = MinesweeperStepDataset(val_dataset_path)\n",
    "\n",
    "batch_size = 32\n",
    "train_loader = DataLoader(train_dataset, batch_size=batch_size, shuffle=True)\n",
    "val_loader = DataLoader(val_dataset, batch_size=batch_size)"
   ]
  },
  {
   "cell_type": "code",
   "execution_count": null,
   "id": "7e0a98b0",
   "metadata": {
    "vscode": {
     "languageId": "plaintext"
    }
   },
   "outputs": [],
   "source": [
    "import torch\n",
    "from tqdm import tqdm\n",
    "import matplotlib.pyplot as plt\n",
    "import IPython.display as display\n",
    "\n",
    "model = MinesweeperCNN()\n",
    "loss_fn = MinesweeperPenaltyLoss(bomb_penalty=10.0, revealed_penalty=1.0, safe_penalty=1.0)\n",
    "optimizer = torch.optim.Adam(model.parameters(), lr=1e-3)\n",
    "\n",
    "device = torch.device('cuda' if torch.cuda.is_available() else 'cpu')\n",
    "model = model.to(device)\n",
    "loss_fn = loss_fn.to(device)\n",
    "\n",
    "num_epochs = 100\n",
    "\n",
    "train_losses = []\n",
    "val_losses = []\n",
    "\n",
    "plt.ion()  # Enable interactive mode for live plotting\n",
    "\n",
    "for epoch in range(num_epochs):\n",
    "    model.train()\n",
    "    batch_train_losses = []\n",
    "\n",
    "    for X, y in tqdm(train_loader):\n",
    "        X = X.to(device)\n",
    "        y = y.to(device)\n",
    "        optimizer.zero_grad()\n",
    "        y_pred = model(X)\n",
    "        loss = loss_fn(y_pred, y)\n",
    "        loss.backward()\n",
    "        optimizer.step()\n",
    "\n",
    "        batch_train_losses.append(loss.item())\n",
    "        train_losses.append(loss.item())\n",
    "\n",
    "        # Live plot update every 50 batches\n",
    "        if len(train_losses) % 200 == 0:\n",
    "            model.eval()\n",
    "            val_loss = 0.0\n",
    "            with torch.no_grad():\n",
    "                for X_val, y_val in val_loader:\n",
    "                    X_val = X_val.to(device)\n",
    "                    y_val = y_val.to(device)\n",
    "                    y_val_pred = model(X_val)\n",
    "                    val_loss += loss_fn(y_val_pred, y_val).item()\n",
    "            val_loss /= len(val_loader)\n",
    "            val_losses.append(val_loss)\n",
    "\n",
    "            display.clear_output(wait=True)\n",
    "            plt.figure(figsize=(12,6))\n",
    "            plt.plot(train_losses, label='Train Loss per Batch')\n",
    "            val_x = [i*200 for i in range(len(val_losses))]\n",
    "            plt.plot(val_x, val_losses, label='Validation Loss per Epoch (every 50 batches)')\n",
    "            plt.xlabel('Batch Number')\n",
    "            plt.ylabel('Loss')\n",
    "            plt.title(f'Training and Validation Loss - Epoch {epoch+1}')\n",
    "            plt.legend()\n",
    "            plt.grid(True)\n",
    "            plt.show()\n",
    "            model.train()\n",
    "\n",
    "    # Epoch-level summary print\n",
    "    epoch_train_loss = sum(batch_train_losses) / len(batch_train_losses)\n",
    "    if val_losses:\n",
    "        print(f\"Epoch {epoch+1}/{num_epochs}: Train Loss: {epoch_train_loss:.4f} | Val Loss: {val_losses[-1]:.4f}\")\n",
    "    else:\n",
    "        print(f\"Epoch {epoch+1}/{num_epochs}: Train Loss: {epoch_train_loss:.4f}\")\n",
    "\n",
    "plt.ioff()  # Disable interactive mode after training\n",
    "\n",
    "# Save model after training\n",
    "torch.save(model.state_dict(), 'minesweeper_cnn.pth')\n"
   ]
  },
  {
   "cell_type": "code",
   "execution_count": null,
   "id": "1404ce76",
   "metadata": {
    "vscode": {
     "languageId": "plaintext"
    }
   },
   "outputs": [],
   "source": [
    "model.eval()\n",
    "\n",
    "X_random, y_random = next(iter(train_loader))\n",
    "y_pred = model(X_random)\n",
    "\n",
    "loss = MinesweeperPenaltyLoss(bomb_penalty=10.0, revealed_penalty=1.0, safe_penalty=1.0)\n",
    "loss(y_pred, y_random)"
   ]
  },
  {
   "cell_type": "code",
   "execution_count": null,
   "id": "62cfbb57",
   "metadata": {
    "vscode": {
     "languageId": "plaintext"
    }
   },
   "outputs": [],
   "source": [
    "X_random[1]"
   ]
  },
  {
   "cell_type": "code",
   "execution_count": null,
   "id": "2a91f7d3",
   "metadata": {
    "vscode": {
     "languageId": "plaintext"
    }
   },
   "outputs": [],
   "source": [
    "y_random[1]"
   ]
  },
  {
   "cell_type": "code",
   "execution_count": null,
   "id": "c9b4adb4",
   "metadata": {
    "vscode": {
     "languageId": "plaintext"
    }
   },
   "outputs": [],
   "source": [
    "y_pred[1]"
   ]
  },
  {
   "cell_type": "code",
   "execution_count": null,
   "id": "e3812730",
   "metadata": {
    "vscode": {
     "languageId": "plaintext"
    }
   },
   "outputs": [],
   "source": [
    "import os\n",
    "\n",
    "os.chdir('..')\n",
    "from minesweeper.game import MinesweeperGame, GameState, CellState\n",
    "os.chdir('evaluating')\n",
    "\n",
    "class GamePlayer:\n",
    "    def __init__(self, model, game, max_steps=100):\n",
    "        \"\"\"\n",
    "        Args:\n",
    "          model: object implementing predict_move(board_array, game) -> (row, col) or None\n",
    "          game: MinesweeperGame instance to be played\n",
    "          max_steps: maximum moves to play to avoid infinite loops\n",
    "        \"\"\"\n",
    "        self.model = model\n",
    "        self.game = game\n",
    "        self.max_steps = max_steps\n",
    "        self.steps = []\n",
    "\n",
    "    def play(self, verbose=False, stop_after_invalid_move=False):\n",
    "        step_count = 0\n",
    "        while self.game.state == GameState.IN_PROGRESS and step_count < self.max_steps:\n",
    "            board_array = self.game.board.to_numpy_bombs_safe()\n",
    "            move = self.model.predict_move(board_array)\n",
    "            if move is None:\n",
    "                if verbose:\n",
    "                    print(\"Model did not provide a move. Stopping.\")\n",
    "                break\n",
    "            r, c = move\n",
    "            if self.game.board.grid[r][c].state != CellState.HIDDEN:\n",
    "                if verbose:\n",
    "                    print(f\"Model selected invalid cell ({r},{c}) which is not hidden.\")\n",
    "                if stop_after_invalid_move:\n",
    "                    break\n",
    "            state = self.game.play_move(r, c)\n",
    "            self.steps.append({'move': (r, c), 'result': state})\n",
    "            step_count += 1\n",
    "            if state in [GameState.WON, GameState.LOST]:\n",
    "                break\n",
    "        return self.game.state, self.steps\n",
    "    \n",
    "class Evaluator:\n",
    "    def __init__(self, model, max_steps=100):\n",
    "        \"\"\"\n",
    "        Args:\n",
    "          model: object with method predict_move(board_array, game) -> (row, col) or None\n",
    "          max_steps: maximum moves allowed per game\n",
    "        \"\"\"\n",
    "        self.model = model\n",
    "        self.max_steps = max_steps\n",
    "        self.results = []\n",
    "\n",
    "    def evaluate(self, games):\n",
    "        \"\"\"\n",
    "        Runs the model-controlled play on each game and collects statistics.\n",
    "\n",
    "        Args:\n",
    "          games: list of initialized MinesweeperGame instances\n",
    "\n",
    "        Returns:\n",
    "          dict with 'win_rate', 'avg_steps', and 'games_results'\n",
    "        \"\"\"\n",
    "        wins = 0\n",
    "        total_steps = 0\n",
    "        self.results = []\n",
    "\n",
    "        for orig_game in games:\n",
    "            game = MinesweeperGame(orig_game.board.rows, orig_game.board.cols, orig_game.board.num_mines)\n",
    "            player = GamePlayer(self.model, game, self.max_steps)\n",
    "            final_state, steps = player.play()\n",
    "\n",
    "            if final_state == GameState.WON:\n",
    "                wins += 1\n",
    "            total_steps += len(steps)\n",
    "\n",
    "            self.results.append({\n",
    "                'final_state': final_state,\n",
    "                'steps_count': len(steps),\n",
    "                'moves': steps\n",
    "            })\n",
    "\n",
    "        num_games = len(games)\n",
    "        return {\n",
    "            'win_rate': wins / num_games,\n",
    "            'avg_steps': total_steps / num_games,\n",
    "            'games_results': self.results\n",
    "        }"
   ]
  },
  {
   "cell_type": "code",
   "execution_count": null,
   "id": "7c844a77",
   "metadata": {
    "vscode": {
     "languageId": "plaintext"
    }
   },
   "outputs": [],
   "source": [
    "class CNNSolver:\n",
    "    def __init__(self, model):\n",
    "        self.model = model\n",
    "\n",
    "    def predict_move(self, board_array):\n",
    "        \n",
    "        \"\"\"\n",
    "        Picks a random cell coordinate blindly without explicit knowledge which are hidden.\n",
    "        Verifies cell state internally.\n",
    "\n",
    "        Args:\n",
    "          board_array: numpy array (not used here)\n",
    "          game: MinesweeperGame instance for validation\n",
    "\n",
    "        Returns:\n",
    "          (row, col) for next move or None if no hidden cells found in max_attempts\n",
    "        \"\"\"\n",
    "        board_array = torch.Tensor(board_array).unsqueeze(0).unsqueeze(0)\n",
    "        prob = self.model(board_array)\n",
    "        # print(prob)\n",
    "\n",
    "        max_idx_flat = torch.argmax(prob)\n",
    "\n",
    "        # Convert flat index to 2D indices (row, col)\n",
    "        num_cols = prob.size(1)\n",
    "        row = int(max_idx_flat // num_cols)\n",
    "        col = int(max_idx_flat % num_cols)\n",
    "        \n",
    "\n",
    "        return (row, col)"
   ]
  },
  {
   "cell_type": "code",
   "execution_count": null,
   "id": "68d46e08",
   "metadata": {
    "vscode": {
     "languageId": "plaintext"
    }
   },
   "outputs": [],
   "source": [
    "game = MinesweeperGame(9, 9, 20)\n",
    "solver_model = CNNSolver(model)\n",
    "player = GamePlayer(solver_model, game, max_steps=10)\n",
    "final_state, moves_made = player.play(verbose=True, stop_after_invalid_move=False)\n",
    "\n",
    "print(\"Game ended with state:\", final_state)\n",
    "print(\"Moves made:\")\n",
    "for step in moves_made:\n",
    "    print(step)"
   ]
  },
  {
   "cell_type": "code",
   "execution_count": null,
   "id": "d08d06d0",
   "metadata": {
    "vscode": {
     "languageId": "plaintext"
    }
   },
   "outputs": [],
   "source": [
    "solver_model = CNNSolver(model)\n",
    "\n",
    "evaluator = Evaluator(solver_model)\n",
    "games = [MinesweeperGame(9, 9, 10) for _ in range(100)]\n",
    "results = evaluator.evaluate(games, )\n",
    "\n",
    "print(\"Win Rate:\", results['win_rate'])\n",
    "print(\"Average Steps:\", results['avg_steps'])"
   ]
  },
  {
   "cell_type": "code",
   "execution_count": null,
   "id": "f8c01b04",
   "metadata": {
    "vscode": {
     "languageId": "plaintext"
    }
   },
   "outputs": [],
   "source": []
  }
 ],
 "metadata": {
  "language_info": {
   "name": "python"
  }
 },
 "nbformat": 4,
 "nbformat_minor": 5
}
